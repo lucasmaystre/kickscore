{
 "cells": [
  {
   "cell_type": "markdown",
   "metadata": {},
   "source": [
    "# `kickscore` basics\n",
    "\n",
    "This notebook introduces the library's API in the context of a simple example involving [Tom and Jerry](https://en.wikipedia.org/wiki/Tom_and_Jerry).\n",
    "\n",
    "![Tom and Jerry](https://media.giphy.com/media/rjZii4RTL6I0M/giphy.gif)\n",
    "\n",
    "In this notebook, we will:\n",
    "\n",
    "1. instantiate a `kickscore` model,\n",
    "2. define items & express our prior beliefs on the temporal dynamics of the items' skill,\n",
    "3. fit the model to a toy dataset, and\n",
    "4. analyze the results.\n",
    "\n",
    "If you are not doing so already, you can [launch an interactive notebook on Google Colaboratory](https://colab.research.google.com/github/lucasmaystre/kickscore/blob/master/examples/kickscore-basics.ipynb)"
   ]
  },
  {
   "cell_type": "code",
   "execution_count": null,
   "metadata": {
    "collapsed": true
   },
   "outputs": [],
   "source": [
    "# This is only needed for when running the notebook on Google Colaboratory.\n",
    "!pip install kickscore"
   ]
  },
  {
   "cell_type": "code",
   "execution_count": 1,
   "metadata": {
    "collapsed": true
   },
   "outputs": [],
   "source": [
    "import kickscore as ks\n",
    "\n",
    "%matplotlib inline"
   ]
  },
  {
   "cell_type": "markdown",
   "metadata": {},
   "source": [
    "## Defining & fitting the model\n",
    "\n",
    "First, we define the model. In this example, we will use a _binary_ model, which is suitable for observations of the type \"_A_ wins over _B_\".\n",
    "Richer types of observations can be handled with `TernaryModel`, `CountModel` and `DifferenceModel`."
   ]
  },
  {
   "cell_type": "code",
   "execution_count": 2,
   "metadata": {
    "collapsed": true
   },
   "outputs": [],
   "source": [
    "model = ks.BinaryModel()"
   ]
  },
  {
   "cell_type": "markdown",
   "metadata": {},
   "source": [
    "We will observe outcomes of \"fights\" between three contestants: Tom (the cat), Jerry (the mouse) and Spike (the dog).\n",
    "Each contestant is an _item_, in `kickscore`'s terminology.\n",
    "\n",
    "The key assumption behind the `kickscore` models is that the outcome probability of each fight is a function of the (latent) skill of each contestant.\n",
    "This skill can **change over time**.\n",
    "For each contestant, we need to describe how we expect their skill to change over time.\n",
    "We do this by specifying a **kernel function** (a.k.a. covariance function).\n",
    "\n",
    "- Many kernel functions have a variance parameter (usually called `var`). Roughly speaking, this defines the range of possible skill values.\n",
    "- Some kernel functions have a lengthscale parameter (usually called `lscale`). This roughly defines the time interval over which we expect the skill to stay similar."
   ]
  },
  {
   "cell_type": "code",
   "execution_count": 3,
   "metadata": {
    "collapsed": true
   },
   "outputs": [],
   "source": [
    "# Spike's skill does not change over time.\n",
    "k_spike = ks.kernel.Constant(var=0.5)\n",
    "\n",
    "# Tom's skill changes over time, with \"jagged\" (non-smooth) dynamics.\n",
    "k_tom = ks.kernel.Exponential(var=1.0, lscale=1.0)\n",
    "\n",
    "# Jerry's skill has a constant offset and smooth dynamics.\n",
    "k_jerry = ks.kernel.Constant(var=1.0) + ks.kernel.Matern52(var=0.5, lscale=1.0)\n",
    "\n",
    "# Now we are ready to add the items in the model.\n",
    "model.add_item(\"Spike\", kernel=k_spike)\n",
    "model.add_item(\"Tom\", kernel=k_tom)\n",
    "model.add_item(\"Jerry\", kernel=k_jerry)"
   ]
  },
  {
   "cell_type": "markdown",
   "metadata": {},
   "source": [
    "Next, we add observations to the model. **Note that observations must be added in chronological order.** The `observe` method takes:\n",
    "\n",
    "- a list containing the items that _won_ the comparison (`winners`)\n",
    "- a list containing the items that _lost_ the comparison (`losers`)\n",
    "- the time of the observation (`t`)\n",
    "\n",
    "When `winners` or `losers` contains more than one item, `kickscore` considers the _sum of the corresponding items' skill_."
   ]
  },
  {
   "cell_type": "code",
   "execution_count": 4,
   "metadata": {
    "collapsed": true
   },
   "outputs": [],
   "source": [
    "# At first, Jerry beats Tom a couple of times.\n",
    "model.observe(winners=[\"Jerry\"], losers=[\"Tom\"], t=0.0)\n",
    "model.observe(winners=[\"Jerry\"], losers=[\"Tom\"], t=0.9)\n",
    "\n",
    "# Then, Tom beats Spike, and then Jerry.\n",
    "model.observe(winners=[\"Tom\"], losers=[\"Spike\"], t=1.7)\n",
    "model.observe(winners=[\"Tom\"], losers=[\"Jerry\"], t=2.1)\n",
    "\n",
    "# Finally, Jerry beats Tom, and then Tom + Spike.\n",
    "model.observe(winners=[\"Jerry\"], losers=[\"Tom\"], t=3.0)\n",
    "model.observe(winners=[\"Jerry\"], losers=[\"Tom\", \"Spike\"], t=3.5)"
   ]
  },
  {
   "cell_type": "markdown",
   "metadata": {},
   "source": [
    "Now we are ready to fit the model (i.e., infer the skill parameters over time)."
   ]
  },
  {
   "cell_type": "code",
   "execution_count": 5,
   "metadata": {},
   "outputs": [
    {
     "name": "stdout",
     "output_type": "stream",
     "text": [
      "iteration 1, max diff: 0.69315\n",
      "iteration 2, max diff: 0.80824\n",
      "iteration 3, max diff: 0.11764\n",
      "iteration 4, max diff: 0.04363\n",
      "iteration 5, max diff: 0.00419\n",
      "iteration 6, max diff: 0.00166\n",
      "iteration 7, max diff: 0.00027\n"
     ]
    },
    {
     "data": {
      "text/plain": [
       "True"
      ]
     },
     "execution_count": 5,
     "metadata": {},
     "output_type": "execute_result"
    }
   ],
   "source": [
    "model.fit(verbose=True)"
   ]
  },
  {
   "cell_type": "markdown",
   "metadata": {},
   "source": [
    "## Analyzing the results\n",
    "\n",
    "We can get a good understanding of what the model learned by plotting the skill as a function of time."
   ]
  },
  {
   "cell_type": "code",
   "execution_count": 6,
   "metadata": {},
   "outputs": [
    {
     "data": {
      "image/png": "[encoded data removed]",
      "text/plain": [
       "<matplotlib.figure.Figure at 0x1281ea908>"
      ]
     },
     "metadata": {},
     "output_type": "display_data"
    }
   ],
   "source": [
    "model.plot_scores([\"Tom\", \"Jerry\", \"Spike\"], figsize=(14, 5));"
   ]
  },
  {
   "cell_type": "markdown",
   "metadata": {},
   "source": [
    "As `kickscore` learns a posterior _distribution_ over the skills, we represent the mean skill (solid line) as well as the region corresponding to one standard deviation (the shaded area).\n",
    "\n",
    "Notice the following:\n",
    "\n",
    "- the skill of Tom is not smooth over time. Notice how the bends happen at moments corresponding to observations involving Tom.\n",
    "- in contrast, the skill of Jerry varies smoothly.\n",
    "- The skill of Spike is constant, as expected."
   ]
  },
  {
   "cell_type": "markdown",
   "metadata": {},
   "source": [
    "We can also use the model to make predictions for any combination of items, at any time point."
   ]
  },
  {
   "cell_type": "code",
   "execution_count": 7,
   "metadata": {},
   "outputs": [
    {
     "name": "stdout",
     "output_type": "stream",
     "text": [
      "Chances that Jerry beats Tom at t = 4.0: 73.0%\n",
      "Chances that Jerry beats Tom at t = 2.0: 47.1%\n",
      "Chances that Jerry beats Tom at t = -1.0: 70.3%\n"
     ]
    }
   ],
   "source": [
    "# We can predict a future outcome...\n",
    "p_win, p_los = model.probabilities([\"Jerry\"], [\"Tom\"], t=4.0)\n",
    "print(\"Chances that Jerry beats Tom at t = 4.0: {:.1f}%\".format(100 * p_win))\n",
    "\n",
    "# ... or simulate what could have happened in the past.\n",
    "p_win, p_los = model.probabilities([\"Jerry\"], [\"Tom\"], t=2.0)\n",
    "print(\"Chances that Jerry beats Tom at t = 2.0: {:.1f}%\".format(100 * p_win))\n",
    "\n",
    "p_win, p_los = model.probabilities([\"Jerry\"], [\"Tom\"], t=-1.0)\n",
    "print(\"Chances that Jerry beats Tom at t = -1.0: {:.1f}%\".format(100 * p_win))"
   ]
  },
  {
   "cell_type": "markdown",
   "metadata": {},
   "source": [
    "Finally, note that we had to make quite a few choices when we set up the model.\n",
    "In particular, we had to explicitly choose the kernel functions and their (hyper)paramaters.\n",
    "\n",
    "A principled way to compare various models and to eventually select the best one is to compare the log-marginal likelihood of the data (the higher, the better)."
   ]
  },
  {
   "cell_type": "code",
   "execution_count": 8,
   "metadata": {},
   "outputs": [
    {
     "data": {
      "text/plain": [
       "-4.050817554668693"
      ]
     },
     "execution_count": 8,
     "metadata": {},
     "output_type": "execute_result"
    }
   ],
   "source": [
    "model.log_likelihood"
   ]
  },
  {
   "cell_type": "markdown",
   "metadata": {},
   "source": [
    "You can go back and change the kernels & their parameters. Can you find a better model than the one we picked?"
   ]
  }
 ],
 "metadata": {
  "kernelspec": {
   "display_name": "Python 3",
   "language": "python",
   "name": "python3"
  },
  "language_info": {
   "codemirror_mode": {
    "name": "ipython",
    "version": 3
   },
   "file_extension": ".py",
   "mimetype": "text/x-python",
   "name": "python",
   "nbconvert_exporter": "python",
   "pygments_lexer": "ipython3",
   "version": "3.5.1"
  }
 },
 "nbformat": 4,
 "nbformat_minor": 2
}
